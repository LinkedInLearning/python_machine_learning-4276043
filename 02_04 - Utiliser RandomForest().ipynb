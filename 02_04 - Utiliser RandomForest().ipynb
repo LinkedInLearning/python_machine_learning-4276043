{
 "cells": [
  {
   "cell_type": "markdown",
   "metadata": {},
   "source": [
    "<h2 style=\"text-align: center; background-color: #4d648d; font-family:Arial; color: white; padding: 13px; line-height: 1; border-radius:10px\">Utiliser RandomForest() 🌲🌲</h2>"
   ]
  },
  {
   "cell_type": "code",
   "execution_count": 1,
   "metadata": {},
   "outputs": [],
   "source": [
    "import numpy as np\n",
    "from sklearn.datasets import load_diabetes\n",
    "from sklearn.model_selection import train_test_split\n",
    "from sklearn.ensemble import RandomForestRegressor\n",
    "import seaborn as sns"
   ]
  },
  {
   "cell_type": "code",
   "execution_count": 2,
   "metadata": {},
   "outputs": [],
   "source": [
    "dfX,sy = load_diabetes(return_X_y=True,as_frame=True)"
   ]
  },
  {
   "cell_type": "code",
   "execution_count": 3,
   "metadata": {},
   "outputs": [],
   "source": [
    "# Séparation jeu d'entrainement et jeu de test\n",
    "X_train, X_test, y_train, y_test = train_test_split(dfX, sy, test_size=0.3) "
   ]
  },
  {
   "cell_type": "markdown",
   "metadata": {},
   "source": [
    "Arguments de la forêt aléatoire :  \n",
    " - n_estimators (int, default=100) : nombre d'arbres dans la forêt.  \n",
    " - max_depth (int, default=None) : profondeur maximale des arbres  \n",
    " - min_samples_split (int or float, default=2) : nombre minimum d'échantillons requis pour diviser un noeud.\n",
    " - min_samples_leaf (int or float, default=1) : nombre minimum d'échantillons requis pour qu'un noeud soit une feuille."
   ]
  },
  {
   "cell_type": "code",
   "execution_count": 6,
   "metadata": {},
   "outputs": [
    {
     "data": {
      "text/plain": [
       "array([287.64, 181.28, 129.11,  93.92, 200.66, 203.05, 106.5 , 166.01,\n",
       "       142.87, 260.31, 183.28, 100.82, 119.34,  95.28,  86.72, 141.76,\n",
       "       169.89, 164.46, 243.66, 238.77, 212.06, 183.13, 184.28, 208.03,\n",
       "       206.06,  90.19, 155.44, 204.02, 253.11, 220.77,  89.28, 203.61,\n",
       "        68.42,  71.23, 105.41, 187.95, 115.5 , 121.43,  86.58, 193.34,\n",
       "       216.84, 149.99, 103.85, 104.7 ,  98.4 , 188.52,  92.93, 101.03,\n",
       "       149.86, 252.58, 248.48, 186.24, 222.29, 183.23, 222.52, 130.42,\n",
       "       139.57, 140.14, 218.41, 241.17, 278.66,  83.45, 127.91, 190.19,\n",
       "       181.37, 147.31,  96.44, 222.02, 116.78, 206.18, 226.22, 115.82,\n",
       "       158.03, 248.43, 221.97, 260.1 , 211.52, 208.75, 232.39, 113.34,\n",
       "       152.26, 205.1 , 158.43, 228.99, 180.69, 105.87, 131.84, 109.24,\n",
       "       104.09, 182.24, 119.75, 168.32, 130.86,  98.09, 145.13, 163.04,\n",
       "       149.91, 109.68, 177.57, 141.9 , 181.32, 114.69, 103.73, 223.1 ,\n",
       "       119.8 , 113.67, 213.97,  80.77, 140.09, 130.64, 131.25, 132.45,\n",
       "       195.77, 112.33, 100.4 , 114.04, 167.43, 193.33, 136.12, 109.16,\n",
       "       122.41, 175.92, 160.11, 154.72, 187.9 , 160.4 , 158.43, 126.97,\n",
       "       131.21, 135.22,  89.04,  91.41, 103.58])"
      ]
     },
     "execution_count": 6,
     "metadata": {},
     "output_type": "execute_result"
    }
   ],
   "source": [
    "# Initialiser et entraîner le modèle de régression avec une forêt aléatoire\n",
    "rf_regressor = RandomForestRegressor(random_state=42)\n",
    "rf_regressor.fit(X_train, y_train)\n",
    "\n",
    "# Faire des prédictions sur l'ensemble de test\n",
    "y_pred = rf_regressor.predict(X_test)\n",
    "y_pred"
   ]
  },
  {
   "cell_type": "code",
   "execution_count": 8,
   "metadata": {},
   "outputs": [
    {
     "data": {
      "text/plain": [
       "array([286.50415341, 179.02768914, 111.46338887,  96.62395138,\n",
       "       190.0462128 , 201.61741381, 114.18267041, 173.45903279,\n",
       "       149.07212412, 262.23149068, 191.68993591,  96.00365247,\n",
       "       120.93626225,  89.75979162,  89.94266308, 152.6942104 ,\n",
       "       164.61650499, 163.94815046, 242.33762608, 232.98305838,\n",
       "       217.55782151, 177.76685304, 188.57711763, 217.25676911,\n",
       "       195.32848051,  96.47514673, 156.50313197, 200.02760028,\n",
       "       246.2021556 , 225.69736274,  99.69254946, 208.39227843,\n",
       "        78.93667017,  82.88116821, 100.91908356, 185.9289736 ,\n",
       "       114.59989652, 134.53913155,  88.89368739, 199.72849638,\n",
       "       217.35286615, 136.45970936, 104.65349272,  99.9968095 ,\n",
       "       111.90737047, 196.41538754,  90.77937094, 107.9316304 ,\n",
       "       135.28216504, 253.14749854, 247.07760436, 185.49384168,\n",
       "       238.58962305, 178.46091708, 220.26393014, 125.11493236,\n",
       "       133.14975931, 135.69822754, 223.25751818, 237.45053519,\n",
       "       278.87657436,  90.39356068, 121.51073845, 189.45367116,\n",
       "       179.78316281, 130.49520556,  96.25840082, 230.06157007,\n",
       "       110.60026727, 193.15097529, 222.73869143, 131.04514042,\n",
       "       164.10974317, 245.42095158, 226.99905733, 259.2439568 ,\n",
       "       209.18552948, 207.47163872, 240.66267092, 116.43757872,\n",
       "       138.04056029, 197.07260692, 155.81086937, 220.99618727,\n",
       "       173.97231404,  98.05149515, 142.49955701, 114.00957531,\n",
       "        96.7271749 , 192.16239529, 124.34643987, 167.02069685,\n",
       "       126.21077861, 107.40593686, 142.90365829, 157.66939013,\n",
       "       157.47110902, 101.65644286, 185.01814972, 131.72774766,\n",
       "       191.43168034, 103.44660171, 101.95983865, 224.715291  ,\n",
       "       110.89722784, 115.83461255, 211.97032317,  85.26806447,\n",
       "       136.84328458, 125.68439073, 139.73243682, 137.78666469,\n",
       "       189.17115109, 101.0859247 , 110.92207335, 103.27157143,\n",
       "       170.56135483, 178.05045894, 137.75566917, 113.57232884,\n",
       "       128.97950015, 178.42026618, 162.91574811, 153.92481281,\n",
       "       176.87195535, 162.07916434, 145.54243682, 137.47746168,\n",
       "       137.11425394, 119.62998071,  95.48137785, 101.80517007,\n",
       "       116.05195245])"
      ]
     },
     "execution_count": 8,
     "metadata": {},
     "output_type": "execute_result"
    }
   ],
   "source": [
    "# Initialiser et entraîner le modèle de régression avec une forêt aléatoire\n",
    "rf_regressor = RandomForestRegressor(n_estimators=80, max_depth=5, random_state=42)\n",
    "rf_regressor.fit(X_train, y_train)\n",
    "\n",
    "# Faire des prédictions sur l'ensemble de test\n",
    "y_pred = rf_regressor.predict(X_test)\n",
    "y_pred"
   ]
  }
 ],
 "metadata": {
  "kernelspec": {
   "display_name": "Python 3",
   "language": "python",
   "name": "python3"
  },
  "language_info": {
   "codemirror_mode": {
    "name": "ipython",
    "version": 3
   },
   "file_extension": ".py",
   "mimetype": "text/x-python",
   "name": "python",
   "nbconvert_exporter": "python",
   "pygments_lexer": "ipython3",
   "version": "3.6.4"
  }
 },
 "nbformat": 4,
 "nbformat_minor": 2
}
