{
 "cells": [
  {
   "cell_type": "markdown",
   "metadata": {},
   "source": [
    "<h2 style=\"text-align: center; background-color: #4d648d; font-family:Arial; color: white; padding: 13px; line-height: 1; border-radius:10px\">Manipuler les arbres de décision 🌳</h2>"
   ]
  },
  {
   "cell_type": "code",
   "execution_count": 1,
   "metadata": {},
   "outputs": [],
   "source": [
    "import numpy as np\n",
    "from sklearn.datasets import load_diabetes\n",
    "from sklearn.model_selection import train_test_split\n",
    "from sklearn.tree import DecisionTreeRegressor\n",
    "import seaborn as sns"
   ]
  },
  {
   "cell_type": "code",
   "execution_count": 2,
   "metadata": {},
   "outputs": [],
   "source": [
    "dfX,sy = load_diabetes(return_X_y=True,as_frame=True)"
   ]
  },
  {
   "cell_type": "code",
   "execution_count": 3,
   "metadata": {},
   "outputs": [],
   "source": [
    "# Séparation jeu d'entrainement et jeu de test\n",
    "X_train, X_test, y_train, y_test = train_test_split(dfX, sy, test_size=0.3) "
   ]
  },
  {
   "cell_type": "markdown",
   "metadata": {},
   "source": [
    "Arguments de l'arbre de décision :   \n",
    " - splitter (str, default=\"best\") : détermine la stratégie utilisée pour choisir la division au noeud.\n",
    " - max_depth (int, default=None) : définit la profondeur maximale de l'arbre.\n",
    " - min_samples_split (int or float, default=2) : nombre minimum d'échantillons requis pour diviser un noeud.\n",
    " - min_samples_leaf (int or float, default=1) : nombre minimum d'échantillons requis pour qu'un noeud soit une feuille."
   ]
  },
  {
   "cell_type": "code",
   "execution_count": 7,
   "metadata": {},
   "outputs": [
    {
     "data": {
      "text/plain": [
       "array([186., 268., 292., 310., 187., 154., 139., 153.,  55.,  97., 127.,\n",
       "       220.,  87.,  53., 135., 131.,  59., 262., 150., 262.,  49., 109.,\n",
       "        71., 202.,  57.,  95., 263., 103., 215.,  64., 158., 243., 137.,\n",
       "       139.,  53., 132., 263.,  51., 191., 170., 128.,  52., 202., 261.,\n",
       "       122., 177.,  95., 160.,  95., 152.,  71., 172.,  58., 253.,  63.,\n",
       "        74., 168.,  78., 163.,  52., 154., 103.,  95., 111., 111., 109.,\n",
       "        69., 268., 273., 158.,  97., 164.,  39., 214.,  59., 308., 212.,\n",
       "        57., 225.,  95., 164., 259., 163., 120., 178., 189.,  94., 187.,\n",
       "        71., 101., 220., 212., 217., 129., 186., 142., 310.,  88.,  66.,\n",
       "        52.,  72., 155., 120.,  58.,  47., 275., 177.,  70., 268., 264.,\n",
       "        91., 161., 214., 293.,  85., 308., 187., 150., 158., 268., 135.,\n",
       "       308., 144., 292., 236., 135., 216., 178., 128.,  83., 185., 154.,\n",
       "       111.])"
      ]
     },
     "execution_count": 7,
     "metadata": {},
     "output_type": "execute_result"
    }
   ],
   "source": [
    "# Initialiser et entraîner le modèle de régression avec un arbre de décision\n",
    "tree_model = DecisionTreeRegressor(random_state=42)\n",
    "tree_model.fit(X_train, y_train)\n",
    "\n",
    "# Faire des prédictions sur l'ensemble de test\n",
    "y_pred = tree_model.predict(X_test)\n",
    "y_pred"
   ]
  },
  {
   "cell_type": "code",
   "execution_count": 8,
   "metadata": {},
   "outputs": [
    {
     "data": {
      "text/plain": [
       "array([240.5       , 240.5       , 185.48      , 310.        ,\n",
       "       162.125     , 122.25      , 122.25      , 122.25      ,\n",
       "       125.11111111,  92.272     , 138.57142857, 275.14285714,\n",
       "        92.272     ,  92.272     ,  92.272     , 131.        ,\n",
       "        92.272     , 271.5       , 122.25      , 271.5       ,\n",
       "        92.272     , 138.57142857,  92.272     , 221.95833333,\n",
       "        92.272     , 115.        , 221.95833333, 125.11111111,\n",
       "       221.95833333,  92.272     ,  92.272     , 275.14285714,\n",
       "        92.272     , 122.25      ,  92.272     ,  92.272     ,\n",
       "       221.95833333,  92.272     , 185.48      , 185.48      ,\n",
       "       168.63157895,  92.272     , 185.48      , 275.14285714,\n",
       "       125.11111111,  92.272     , 115.        ,  92.272     ,\n",
       "       115.        ,  92.272     ,  92.272     , 125.11111111,\n",
       "       122.25      , 253.        ,  92.272     ,  92.272     ,\n",
       "        92.272     , 115.        , 221.95833333,  92.272     ,\n",
       "       122.25      , 125.11111111, 125.11111111, 168.63157895,\n",
       "       168.63157895, 138.57142857, 185.48      , 275.14285714,\n",
       "       221.95833333,  92.272     ,  92.272     , 168.63157895,\n",
       "        92.272     , 122.25      ,  92.272     , 272.22222222,\n",
       "       221.95833333,  92.272     , 221.95833333, 115.        ,\n",
       "       168.63157895, 185.48      , 221.95833333, 185.48      ,\n",
       "       221.95833333, 185.48      , 122.25      , 162.125     ,\n",
       "        92.272     , 185.48      , 275.14285714, 221.95833333,\n",
       "       240.5       ,  92.272     , 240.5       , 168.63157895,\n",
       "       310.        , 122.25      , 122.25      , 168.63157895,\n",
       "        92.272     ,  92.272     , 185.48      , 122.25      ,\n",
       "        92.272     , 275.14285714,  92.272     ,  92.272     ,\n",
       "       275.14285714, 275.14285714, 125.11111111, 185.48      ,\n",
       "       122.25      , 221.95833333, 122.25      , 272.22222222,\n",
       "       162.125     , 122.25      ,  92.272     , 275.14285714,\n",
       "        92.272     , 272.22222222, 115.        , 185.48      ,\n",
       "       221.95833333,  92.272     , 216.        , 221.95833333,\n",
       "        92.272     , 122.25      , 177.8       , 122.25      ,\n",
       "       168.63157895])"
      ]
     },
     "execution_count": 8,
     "metadata": {},
     "output_type": "execute_result"
    }
   ],
   "source": [
    "# Initialiser et entraîner le modèle de régression avec un arbre de décision\n",
    "tree_model = DecisionTreeRegressor(max_depth=5, min_samples_split=10, random_state=42)\n",
    "tree_model.fit(X_train, y_train)\n",
    "\n",
    "# Faire des prédictions sur l'ensemble de test\n",
    "y_pred = tree_model.predict(X_test)\n",
    "y_pred"
   ]
  }
 ],
 "metadata": {
  "kernelspec": {
   "display_name": "Python 3",
   "language": "python",
   "name": "python3"
  },
  "language_info": {
   "codemirror_mode": {
    "name": "ipython",
    "version": 3
   },
   "file_extension": ".py",
   "mimetype": "text/x-python",
   "name": "python",
   "nbconvert_exporter": "python",
   "pygments_lexer": "ipython3",
   "version": "3.6.4"
  }
 },
 "nbformat": 4,
 "nbformat_minor": 2
}
