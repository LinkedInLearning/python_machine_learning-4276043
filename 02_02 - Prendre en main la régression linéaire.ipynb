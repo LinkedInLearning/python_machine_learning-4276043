{
 "cells": [
  {
   "cell_type": "markdown",
   "metadata": {},
   "source": [
    "<h2 style=\"text-align: center; background-color: #4d648d; font-family:Arial; color: white; padding: 13px; line-height: 1; border-radius:10px\">Prendre en main la régression ⛓️‍💥</h2>"
   ]
  },
  {
   "cell_type": "code",
   "execution_count": 14,
   "metadata": {},
   "outputs": [],
   "source": [
    "import numpy as np\n",
    "from sklearn.datasets import load_diabetes\n",
    "from sklearn.model_selection import train_test_split\n",
    "from sklearn.linear_model import LinearRegression\n",
    "import seaborn as sns\n",
    "import matplotlib.pyplot as plt"
   ]
  },
  {
   "cell_type": "code",
   "execution_count": 9,
   "metadata": {},
   "outputs": [],
   "source": [
    "dfX,sy = load_diabetes(return_X_y=True,as_frame=True)"
   ]
  },
  {
   "cell_type": "code",
   "execution_count": 10,
   "metadata": {},
   "outputs": [
    {
     "data": {
      "text/html": [
       "<div>\n",
       "<style scoped>\n",
       "    .dataframe tbody tr th:only-of-type {\n",
       "        vertical-align: middle;\n",
       "    }\n",
       "\n",
       "    .dataframe tbody tr th {\n",
       "        vertical-align: top;\n",
       "    }\n",
       "\n",
       "    .dataframe thead th {\n",
       "        text-align: right;\n",
       "    }\n",
       "</style>\n",
       "<table border=\"1\" class=\"dataframe\">\n",
       "  <thead>\n",
       "    <tr style=\"text-align: right;\">\n",
       "      <th></th>\n",
       "      <th>age</th>\n",
       "      <th>sex</th>\n",
       "      <th>bmi</th>\n",
       "      <th>bp</th>\n",
       "      <th>s1</th>\n",
       "      <th>s2</th>\n",
       "      <th>s3</th>\n",
       "      <th>s4</th>\n",
       "      <th>s5</th>\n",
       "      <th>s6</th>\n",
       "    </tr>\n",
       "  </thead>\n",
       "  <tbody>\n",
       "    <tr>\n",
       "      <th>0</th>\n",
       "      <td>0.038076</td>\n",
       "      <td>0.050680</td>\n",
       "      <td>0.061696</td>\n",
       "      <td>0.021872</td>\n",
       "      <td>-0.044223</td>\n",
       "      <td>-0.034821</td>\n",
       "      <td>-0.043401</td>\n",
       "      <td>-0.002592</td>\n",
       "      <td>0.019908</td>\n",
       "      <td>-0.017646</td>\n",
       "    </tr>\n",
       "    <tr>\n",
       "      <th>1</th>\n",
       "      <td>-0.001882</td>\n",
       "      <td>-0.044642</td>\n",
       "      <td>-0.051474</td>\n",
       "      <td>-0.026328</td>\n",
       "      <td>-0.008449</td>\n",
       "      <td>-0.019163</td>\n",
       "      <td>0.074412</td>\n",
       "      <td>-0.039493</td>\n",
       "      <td>-0.068330</td>\n",
       "      <td>-0.092204</td>\n",
       "    </tr>\n",
       "    <tr>\n",
       "      <th>2</th>\n",
       "      <td>0.085299</td>\n",
       "      <td>0.050680</td>\n",
       "      <td>0.044451</td>\n",
       "      <td>-0.005671</td>\n",
       "      <td>-0.045599</td>\n",
       "      <td>-0.034194</td>\n",
       "      <td>-0.032356</td>\n",
       "      <td>-0.002592</td>\n",
       "      <td>0.002864</td>\n",
       "      <td>-0.025930</td>\n",
       "    </tr>\n",
       "    <tr>\n",
       "      <th>3</th>\n",
       "      <td>-0.089063</td>\n",
       "      <td>-0.044642</td>\n",
       "      <td>-0.011595</td>\n",
       "      <td>-0.036656</td>\n",
       "      <td>0.012191</td>\n",
       "      <td>0.024991</td>\n",
       "      <td>-0.036038</td>\n",
       "      <td>0.034309</td>\n",
       "      <td>0.022692</td>\n",
       "      <td>-0.009362</td>\n",
       "    </tr>\n",
       "    <tr>\n",
       "      <th>4</th>\n",
       "      <td>0.005383</td>\n",
       "      <td>-0.044642</td>\n",
       "      <td>-0.036385</td>\n",
       "      <td>0.021872</td>\n",
       "      <td>0.003935</td>\n",
       "      <td>0.015596</td>\n",
       "      <td>0.008142</td>\n",
       "      <td>-0.002592</td>\n",
       "      <td>-0.031991</td>\n",
       "      <td>-0.046641</td>\n",
       "    </tr>\n",
       "  </tbody>\n",
       "</table>\n",
       "</div>"
      ],
      "text/plain": [
       "        age       sex       bmi        bp        s1        s2        s3  \\\n",
       "0  0.038076  0.050680  0.061696  0.021872 -0.044223 -0.034821 -0.043401   \n",
       "1 -0.001882 -0.044642 -0.051474 -0.026328 -0.008449 -0.019163  0.074412   \n",
       "2  0.085299  0.050680  0.044451 -0.005671 -0.045599 -0.034194 -0.032356   \n",
       "3 -0.089063 -0.044642 -0.011595 -0.036656  0.012191  0.024991 -0.036038   \n",
       "4  0.005383 -0.044642 -0.036385  0.021872  0.003935  0.015596  0.008142   \n",
       "\n",
       "         s4        s5        s6  \n",
       "0 -0.002592  0.019908 -0.017646  \n",
       "1 -0.039493 -0.068330 -0.092204  \n",
       "2 -0.002592  0.002864 -0.025930  \n",
       "3  0.034309  0.022692 -0.009362  \n",
       "4 -0.002592 -0.031991 -0.046641  "
      ]
     },
     "execution_count": 10,
     "metadata": {},
     "output_type": "execute_result"
    }
   ],
   "source": [
    "dfX.head()"
   ]
  },
  {
   "cell_type": "code",
   "execution_count": 11,
   "metadata": {},
   "outputs": [
    {
     "data": {
      "text/plain": [
       "0    151.0\n",
       "1     75.0\n",
       "2    141.0\n",
       "3    206.0\n",
       "4    135.0\n",
       "Name: target, dtype: float64"
      ]
     },
     "execution_count": 11,
     "metadata": {},
     "output_type": "execute_result"
    }
   ],
   "source": [
    "sy.head()"
   ]
  },
  {
   "cell_type": "markdown",
   "metadata": {},
   "source": [
    "Explication sur les données :  \n",
    "   - age - âge en années  \n",
    "   - sex - sexe (homme ou femme)  \n",
    "   - bmi - indice de masse corporelle (IMC)  \n",
    "   - bp - pression artérielle moyenne  \n",
    "   - s1 - TC : cholestérol sérique total  \n",
    "   - s2 - LDL : lipoprotéines de basse densité  \n",
    "   - s3 - HDL : lipoprotéines de haute densité  \n",
    "   - s4 - TCH : rapport cholestérol total / HDL  \n",
    "   - s5 - LTG : possiblement le logarithme du niveau des triglycérides sériques  \n",
    "   - s6 - GLU : taux de sucre dans le sang  \n",
    "   \n",
    "Une variable cible sy : une mesure quantitative de la progression de la maladie un an après la ligne de base."
   ]
  },
  {
   "cell_type": "code",
   "execution_count": null,
   "metadata": {},
   "outputs": [],
   "source": [
    "# Séparation jeu d'entrainement et jeu de test\n",
    "X_train, X_test, y_train, y_test = train_test_split(dfX, sy, test_size=0.3) "
   ]
  },
  {
   "cell_type": "code",
   "execution_count": 12,
   "metadata": {},
   "outputs": [
    {
     "data": {
      "text/plain": [
       "array([162.63095452,  88.22478531, 198.52139334,  73.04097136,\n",
       "       157.7384891 ,  58.69282551, 188.07616798, 103.44690883,\n",
       "        83.7273454 ,  75.33963377, 103.06401879, 103.22210676,\n",
       "       205.50561524, 170.43431013, 147.93882849, 107.93755698,\n",
       "       188.65536268, 224.84517133, 203.28022324, 256.20313666,\n",
       "       155.74122538, 130.19996078, 259.15768611, 163.11168564,\n",
       "       114.68956732, 103.52675813, 109.55149669, 203.75000222,\n",
       "       144.35116859, 194.97679028, 165.6678934 , 109.13404472,\n",
       "       194.65526247, 169.17739576,  99.07571858, 231.80270838,\n",
       "       123.60005031, 151.0264857 , 230.76242009, 135.95988698,\n",
       "       126.7421241 , 231.88109648, 190.49508485, 124.81397213,\n",
       "       196.46810813, 121.62252088,  62.22664788, 116.31703165,\n",
       "       280.55587636,  77.77606182, 168.84002809, 102.90631811,\n",
       "       139.73148454, 111.91382135, 173.9122151 , 181.32912093,\n",
       "       176.23442954, 171.17161136, 198.45225698, 177.77700631,\n",
       "       259.95490688, 158.40422167, 148.68804775,  92.4739785 ,\n",
       "       116.23569954, 116.03208038, 147.2333232 , 101.36071546,\n",
       "       173.48924284, 227.7308974 , 166.67713121, 171.30603838,\n",
       "       126.20377692, 221.75113364, 189.58187787, 158.24866768,\n",
       "       156.08104761, 103.44432874, 256.13088305,  61.19245711,\n",
       "       114.74183699,  92.70724034, 135.79874245, 204.39933877,\n",
       "       189.41167152, 121.7481085 , 152.82951157, 187.48597709,\n",
       "       231.10007752,  97.88005398, 218.90133616,  84.33215471,\n",
       "       124.84158749, 142.27590653, 120.09000908, 178.64002875,\n",
       "        88.28073059,  65.23944134, 128.50260371, 195.47456235,\n",
       "       163.82772461, 233.86155968, 152.01520193, 167.2242108 ,\n",
       "        75.55528622, 216.66845966, 154.54071474,  75.93259701,\n",
       "       118.03495116, 151.24173091, 261.90246488, 160.12359264,\n",
       "       172.83745548, 151.82284657, 166.38968743, 273.66852093,\n",
       "        97.73288636, 164.37767181, 168.97225977, 256.41634237,\n",
       "        67.17503897, 119.71941713, 111.47768044, 231.62195476,\n",
       "       157.72889646, 260.07061348, 163.92313085, 123.30930854,\n",
       "       132.38467635, 110.33425481, 133.75931566,  94.47102714,\n",
       "       161.30351899])"
      ]
     },
     "execution_count": 12,
     "metadata": {},
     "output_type": "execute_result"
    }
   ],
   "source": [
    "# Initialiser et entraîner le modèle de régression linéaire\n",
    "model = LinearRegression()\n",
    "model.fit(X_train, y_train)\n",
    "\n",
    "# Faire des prédictions sur l'ensemble de test\n",
    "y_pred = model.predict(X_test)\n",
    "y_pred"
   ]
  },
  {
   "cell_type": "code",
   "execution_count": 15,
   "metadata": {},
   "outputs": [
    {
     "data": {
      "text/plain": [
       "<AxesSubplot:>"
      ]
     },
     "execution_count": 15,
     "metadata": {},
     "output_type": "execute_result"
    },
    {
     "data": {
      "image/png": "[encoded data removed]",
      "text/plain": [
       "<Figure size 1440x576 with 2 Axes>"
      ]
     },
     "metadata": {
      "needs_background": "light"
     },
     "output_type": "display_data"
    }
   ],
   "source": [
    "# Utiliser la matrice de corrélation \n",
    "dfX.corr()\n",
    "plt.figure(figsize=(20,8))\n",
    "sns.heatmap(dfX.corr(), vmin=-1, vmax=+1, annot=True, cmap=\"coolwarm\", mask=np.triu(dfX.corr()))"
   ]
  },
  {
   "cell_type": "code",
   "execution_count": 16,
   "metadata": {},
   "outputs": [
    {
     "data": {
      "text/html": [
       "<div>\n",
       "<style scoped>\n",
       "    .dataframe tbody tr th:only-of-type {\n",
       "        vertical-align: middle;\n",
       "    }\n",
       "\n",
       "    .dataframe tbody tr th {\n",
       "        vertical-align: top;\n",
       "    }\n",
       "\n",
       "    .dataframe thead th {\n",
       "        text-align: right;\n",
       "    }\n",
       "</style>\n",
       "<table border=\"1\" class=\"dataframe\">\n",
       "  <thead>\n",
       "    <tr style=\"text-align: right;\">\n",
       "      <th></th>\n",
       "      <th>age</th>\n",
       "      <th>sex</th>\n",
       "      <th>bmi</th>\n",
       "      <th>bp</th>\n",
       "      <th>s1</th>\n",
       "      <th>s2</th>\n",
       "      <th>s3</th>\n",
       "      <th>s4</th>\n",
       "      <th>s5</th>\n",
       "      <th>s6</th>\n",
       "    </tr>\n",
       "  </thead>\n",
       "  <tbody>\n",
       "    <tr>\n",
       "      <th>290</th>\n",
       "      <td>0.059871</td>\n",
       "      <td>0.050680</td>\n",
       "      <td>0.076786</td>\n",
       "      <td>0.025315</td>\n",
       "      <td>0.001183</td>\n",
       "      <td>0.016849</td>\n",
       "      <td>-0.054446</td>\n",
       "      <td>0.034309</td>\n",
       "      <td>0.029936</td>\n",
       "      <td>0.044485</td>\n",
       "    </tr>\n",
       "    <tr>\n",
       "      <th>364</th>\n",
       "      <td>0.001751</td>\n",
       "      <td>0.050680</td>\n",
       "      <td>-0.006206</td>\n",
       "      <td>-0.019442</td>\n",
       "      <td>-0.009825</td>\n",
       "      <td>0.004949</td>\n",
       "      <td>-0.039719</td>\n",
       "      <td>0.034309</td>\n",
       "      <td>0.014823</td>\n",
       "      <td>0.098333</td>\n",
       "    </tr>\n",
       "    <tr>\n",
       "      <th>274</th>\n",
       "      <td>0.016281</td>\n",
       "      <td>-0.044642</td>\n",
       "      <td>-0.024529</td>\n",
       "      <td>0.035644</td>\n",
       "      <td>-0.007073</td>\n",
       "      <td>-0.003193</td>\n",
       "      <td>-0.013948</td>\n",
       "      <td>-0.002592</td>\n",
       "      <td>0.015567</td>\n",
       "      <td>0.015491</td>\n",
       "    </tr>\n",
       "    <tr>\n",
       "      <th>415</th>\n",
       "      <td>-0.005515</td>\n",
       "      <td>-0.044642</td>\n",
       "      <td>0.008883</td>\n",
       "      <td>-0.050428</td>\n",
       "      <td>0.025950</td>\n",
       "      <td>0.047224</td>\n",
       "      <td>-0.043401</td>\n",
       "      <td>0.071210</td>\n",
       "      <td>0.014823</td>\n",
       "      <td>0.003064</td>\n",
       "    </tr>\n",
       "    <tr>\n",
       "      <th>68</th>\n",
       "      <td>0.038076</td>\n",
       "      <td>0.050680</td>\n",
       "      <td>-0.029918</td>\n",
       "      <td>-0.040099</td>\n",
       "      <td>-0.033216</td>\n",
       "      <td>-0.024174</td>\n",
       "      <td>-0.010266</td>\n",
       "      <td>-0.002592</td>\n",
       "      <td>-0.012908</td>\n",
       "      <td>0.003064</td>\n",
       "    </tr>\n",
       "  </tbody>\n",
       "</table>\n",
       "</div>"
      ],
      "text/plain": [
       "          age       sex       bmi        bp        s1        s2        s3  \\\n",
       "290  0.059871  0.050680  0.076786  0.025315  0.001183  0.016849 -0.054446   \n",
       "364  0.001751  0.050680 -0.006206 -0.019442 -0.009825  0.004949 -0.039719   \n",
       "274  0.016281 -0.044642 -0.024529  0.035644 -0.007073 -0.003193 -0.013948   \n",
       "415 -0.005515 -0.044642  0.008883 -0.050428  0.025950  0.047224 -0.043401   \n",
       "68   0.038076  0.050680 -0.029918 -0.040099 -0.033216 -0.024174 -0.010266   \n",
       "\n",
       "           s4        s5        s6  \n",
       "290  0.034309  0.029936  0.044485  \n",
       "364  0.034309  0.014823  0.098333  \n",
       "274 -0.002592  0.015567  0.015491  \n",
       "415  0.071210  0.014823  0.003064  \n",
       "68  -0.002592 -0.012908  0.003064  "
      ]
     },
     "execution_count": 16,
     "metadata": {},
     "output_type": "execute_result"
    }
   ],
   "source": [
    "X_train.head()"
   ]
  },
  {
   "cell_type": "code",
   "execution_count": 17,
   "metadata": {},
   "outputs": [
    {
     "data": {
      "text/html": [
       "<div>\n",
       "<style scoped>\n",
       "    .dataframe tbody tr th:only-of-type {\n",
       "        vertical-align: middle;\n",
       "    }\n",
       "\n",
       "    .dataframe tbody tr th {\n",
       "        vertical-align: top;\n",
       "    }\n",
       "\n",
       "    .dataframe thead th {\n",
       "        text-align: right;\n",
       "    }\n",
       "</style>\n",
       "<table border=\"1\" class=\"dataframe\">\n",
       "  <thead>\n",
       "    <tr style=\"text-align: right;\">\n",
       "      <th></th>\n",
       "      <th>age</th>\n",
       "      <th>sex</th>\n",
       "      <th>bmi</th>\n",
       "      <th>bp</th>\n",
       "      <th>s1</th>\n",
       "      <th>s3</th>\n",
       "      <th>s4</th>\n",
       "      <th>s5</th>\n",
       "      <th>s6</th>\n",
       "    </tr>\n",
       "  </thead>\n",
       "  <tbody>\n",
       "    <tr>\n",
       "      <th>290</th>\n",
       "      <td>0.059871</td>\n",
       "      <td>0.050680</td>\n",
       "      <td>0.076786</td>\n",
       "      <td>0.025315</td>\n",
       "      <td>0.001183</td>\n",
       "      <td>-0.054446</td>\n",
       "      <td>0.034309</td>\n",
       "      <td>0.029936</td>\n",
       "      <td>0.044485</td>\n",
       "    </tr>\n",
       "    <tr>\n",
       "      <th>364</th>\n",
       "      <td>0.001751</td>\n",
       "      <td>0.050680</td>\n",
       "      <td>-0.006206</td>\n",
       "      <td>-0.019442</td>\n",
       "      <td>-0.009825</td>\n",
       "      <td>-0.039719</td>\n",
       "      <td>0.034309</td>\n",
       "      <td>0.014823</td>\n",
       "      <td>0.098333</td>\n",
       "    </tr>\n",
       "    <tr>\n",
       "      <th>274</th>\n",
       "      <td>0.016281</td>\n",
       "      <td>-0.044642</td>\n",
       "      <td>-0.024529</td>\n",
       "      <td>0.035644</td>\n",
       "      <td>-0.007073</td>\n",
       "      <td>-0.013948</td>\n",
       "      <td>-0.002592</td>\n",
       "      <td>0.015567</td>\n",
       "      <td>0.015491</td>\n",
       "    </tr>\n",
       "    <tr>\n",
       "      <th>415</th>\n",
       "      <td>-0.005515</td>\n",
       "      <td>-0.044642</td>\n",
       "      <td>0.008883</td>\n",
       "      <td>-0.050428</td>\n",
       "      <td>0.025950</td>\n",
       "      <td>-0.043401</td>\n",
       "      <td>0.071210</td>\n",
       "      <td>0.014823</td>\n",
       "      <td>0.003064</td>\n",
       "    </tr>\n",
       "    <tr>\n",
       "      <th>68</th>\n",
       "      <td>0.038076</td>\n",
       "      <td>0.050680</td>\n",
       "      <td>-0.029918</td>\n",
       "      <td>-0.040099</td>\n",
       "      <td>-0.033216</td>\n",
       "      <td>-0.010266</td>\n",
       "      <td>-0.002592</td>\n",
       "      <td>-0.012908</td>\n",
       "      <td>0.003064</td>\n",
       "    </tr>\n",
       "  </tbody>\n",
       "</table>\n",
       "</div>"
      ],
      "text/plain": [
       "          age       sex       bmi        bp        s1        s3        s4  \\\n",
       "290  0.059871  0.050680  0.076786  0.025315  0.001183 -0.054446  0.034309   \n",
       "364  0.001751  0.050680 -0.006206 -0.019442 -0.009825 -0.039719  0.034309   \n",
       "274  0.016281 -0.044642 -0.024529  0.035644 -0.007073 -0.013948 -0.002592   \n",
       "415 -0.005515 -0.044642  0.008883 -0.050428  0.025950 -0.043401  0.071210   \n",
       "68   0.038076  0.050680 -0.029918 -0.040099 -0.033216 -0.010266 -0.002592   \n",
       "\n",
       "           s5        s6  \n",
       "290  0.029936  0.044485  \n",
       "364  0.014823  0.098333  \n",
       "274  0.015567  0.015491  \n",
       "415  0.014823  0.003064  \n",
       "68  -0.012908  0.003064  "
      ]
     },
     "execution_count": 17,
     "metadata": {},
     "output_type": "execute_result"
    }
   ],
   "source": [
    "X_train = X_train.drop(columns=['s2'])\n",
    "X_train.head()"
   ]
  },
  {
   "cell_type": "code",
   "execution_count": 19,
   "metadata": {},
   "outputs": [],
   "source": [
    "X_test = X_test.drop(columns=['s2'])"
   ]
  },
  {
   "cell_type": "code",
   "execution_count": 21,
   "metadata": {},
   "outputs": [
    {
     "data": {
      "text/plain": [
       "array([162.62865752,  90.86013327, 196.68426223,  74.88573567,\n",
       "       156.20467021,  62.24978225, 187.92721861, 104.3801502 ,\n",
       "        83.84442462,  75.46864229, 101.26153483, 102.68673225,\n",
       "       204.32610966, 167.89678212, 145.05683322, 106.42189273,\n",
       "       187.13099319, 226.86795583, 202.33116715, 257.12013429,\n",
       "       154.08678085, 128.97477328, 258.50282497, 161.66391493,\n",
       "       112.71772342, 102.67701875, 108.46992634, 202.78955627,\n",
       "       144.52444896, 192.27042739, 163.97570721, 109.05397203,\n",
       "       192.6280365 , 167.41398868,  99.08575835, 232.48242196,\n",
       "       122.07437383, 150.14184205, 230.81450954, 133.42190398,\n",
       "       126.00805615, 230.50632239, 192.37736992, 124.97292507,\n",
       "       206.72907884, 121.81826238,  66.62220821, 116.14587927,\n",
       "       279.30552821,  79.12994122, 168.71751458, 102.9105581 ,\n",
       "       138.75660022, 110.53013059, 172.21866854, 181.22142049,\n",
       "       175.19658166, 169.5703752 , 197.88349858, 181.35399836,\n",
       "       274.93194799, 156.89238906, 146.48797718,  91.92554475,\n",
       "       115.27954569, 115.73535013, 144.9925203 , 100.88381518,\n",
       "       171.55977955, 229.36498767, 180.99222147, 170.49935127,\n",
       "       128.46784805, 222.01305391, 192.04089155, 159.69937759,\n",
       "       155.0506879 , 105.79156838, 262.93833861,  63.43346655,\n",
       "       114.19932034,  93.22116984, 134.84662471, 203.71892959,\n",
       "       188.36933076, 120.50163106, 150.98257043, 186.54440193,\n",
       "       229.07059092, 102.25990114, 217.84123487,  84.95953776,\n",
       "       124.2296532 , 140.72152737, 121.00279119, 180.21910715,\n",
       "        87.90580986,  65.53684277, 126.82181756, 194.28813204,\n",
       "       163.60058078, 232.73617085, 150.93462197, 165.826538  ,\n",
       "        77.58315358, 215.50716252, 153.52879894,  77.0398988 ,\n",
       "       116.9996934 , 150.4725657 , 274.8207526 , 160.07355797,\n",
       "       173.76737583, 150.65609207, 164.23025207, 275.97087652,\n",
       "        99.18058597, 163.165033  , 167.03574222, 257.57809396,\n",
       "        70.71395696, 122.55543898, 110.11919364, 230.66408663,\n",
       "       157.14565447, 261.6687607 , 167.47119803, 121.76130793,\n",
       "       131.00764765, 109.04266941, 133.26150072,  96.28124672,\n",
       "       160.52245777])"
      ]
     },
     "execution_count": 21,
     "metadata": {},
     "output_type": "execute_result"
    }
   ],
   "source": [
    "# Initialiser et entraîner le modèle de régression linéaire\n",
    "model = LinearRegression()\n",
    "model.fit(X_train, y_train)\n",
    "\n",
    "# Faire des prédictions sur l'ensemble de test\n",
    "y_pred = model.predict(X_test)\n",
    "y_pred"
   ]
  }
 ],
 "metadata": {
  "kernelspec": {
   "display_name": "Python 3",
   "language": "python",
   "name": "python3"
  },
  "language_info": {
   "codemirror_mode": {
    "name": "ipython",
    "version": 3
   },
   "file_extension": ".py",
   "mimetype": "text/x-python",
   "name": "python",
   "nbconvert_exporter": "python",
   "pygments_lexer": "ipython3",
   "version": "3.6.4"
  }
 },
 "nbformat": 4,
 "nbformat_minor": 2
}
